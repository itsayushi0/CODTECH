{
  "nbformat": 4,
  "nbformat_minor": 0,
  "metadata": {
    "colab": {
      "provenance": [],
      "authorship_tag": "ABX9TyNB6I/N+QRd0G2vNPilEwk2",
      "include_colab_link": true
    },
    "kernelspec": {
      "name": "python3",
      "display_name": "Python 3"
    },
    "language_info": {
      "name": "python"
    }
  },
  "cells": [
    {
      "cell_type": "markdown",
      "metadata": {
        "id": "view-in-github",
        "colab_type": "text"
      },
      "source": [
        "<a href=\"https://colab.research.google.com/github/itsayushi0/CODTECH/blob/main/Task_4.ipynb\" target=\"_parent\"><img src=\"https://colab.research.google.com/assets/colab-badge.svg\" alt=\"Open In Colab\"/></a>"
      ]
    },
    {
      "cell_type": "markdown",
      "source": [
        "# 📧 Spam Email Detection - Machine Learning Model\n",
        "\n",
        "## 📌 Project Overview\n",
        "This project is part of **CODTECH Python Internship - Task 4**, where the goal is to **create a predictive machine learning model** using **Scikit-learn** to classify or predict outcomes from a dataset.  \n",
        "We have implemented a **Spam Email Detection** system that classifies SMS messages as either **Spam** or **Ham (Not Spam)**.\n",
        "\n",
        "---\n",
        "\n",
        "## 🛠️ Technologies Used\n",
        "- **Python 3**\n",
        "- **Google Colab** (Jupyter Notebook environment)\n",
        "- **Libraries:**\n",
        "  - `pandas` - Data handling\n",
        "  - `numpy` - Numerical operations\n",
        "  - `scikit-learn` - Machine learning model building\n",
        "  - `matplotlib` & `seaborn` - Data visualization\n",
        "\n",
        "---\n",
        "\n",
        "## 📂 Dataset\n",
        "We used the **SMS Spam Collection** dataset:\n",
        "- **Source:** [GitHub Link](https://raw.githubusercontent.com/justmarkham/pycon-2016-tutorial/master/data/sms.tsv)\n",
        "- **Description:** Each row contains a message and a label (`ham` or `spam`).\n",
        "\n",
        "---\n",
        "\n",
        "## 🔍 Workflow\n",
        "1. **Load Dataset** from URL.\n",
        "2. **Explore Data** (shape, class distribution, sample messages).\n",
        "3. **Preprocess Data:**\n",
        "   - Convert labels (`ham` → 0, `spam` → 1)\n",
        "   - Split into training and test sets\n",
        "4. **Feature Extraction:**\n",
        "   - Convert text into numeric vectors using **CountVectorizer** (Bag-of-Words)\n",
        "5. **Model Training:**\n",
        "   - Use **Multinomial Naive Bayes** classifier\n",
        "6. **Model Evaluation:**\n",
        "   - Accuracy Score\n",
        "   - Precision, Recall, F1-score\n",
        "   - Confusion Matrix visualization\n",
        "7. **Result Interpretation & Conclusion**\n",
        "\n",
        "---\n",
        "\n",
        "## 📊 Results\n",
        "- **Accuracy:** ~98%\n",
        "- **Precision (Spam):** High, meaning fewer false spam detections.\n",
        "- **Recall (Spam):** High, meaning most spam messages are correctly caught.\n",
        "- **Confusion Matrix:** Shows low misclassification rates.\n",
        "\n",
        "---\n",
        "\n",
        "\n",
        "\n"
      ],
      "metadata": {
        "id": "9p1faIkE2o2v"
      }
    },
    {
      "cell_type": "code",
      "source": [
        "# Step 1: Install necessary libraries\n",
        "!pip install scikit-learn pandas numpy matplotlib seaborn\n",
        "\n",
        "# Step 2: Import libraries\n",
        "import pandas as pd\n",
        "import numpy as np\n",
        "from sklearn.model_selection import train_test_split\n",
        "from sklearn.feature_extraction.text import CountVectorizer\n",
        "from sklearn.naive_bayes import MultinomialNB\n",
        "from sklearn.metrics import accuracy_score, confusion_matrix, classification_report\n",
        "import matplotlib.pyplot as plt\n",
        "import seaborn as sns\n",
        "\n",
        "# Step 3: Load dataset\n",
        "url = \"https://raw.githubusercontent.com/justmarkham/pycon-2016-tutorial/master/data/sms.tsv\"\n",
        "df = pd.read_csv(url, sep='\\t', names=['label', 'message'])\n",
        "\n",
        "# Step 4: Data overview\n",
        "print(df.head())\n",
        "print(\"\\nDataset Shape:\", df.shape)\n",
        "print(\"\\nClass Distribution:\\n\", df['label'].value_counts())\n",
        "\n",
        "# Step 5: Convert labels to binary\n",
        "df['label'] = df['label'].map({'ham': 0, 'spam': 1})\n",
        "\n",
        "# Step 6: Split into train and test sets\n",
        "X_train, X_test, y_train, y_test = train_test_split(\n",
        "    df['message'], df['label'], test_size=0.2, random_state=42)\n",
        "\n",
        "# Step 7: Text vectorization\n",
        "vectorizer = CountVectorizer()\n",
        "X_train_vect = vectorizer.fit_transform(X_train)\n",
        "X_test_vect = vectorizer.transform(X_test)\n",
        "\n",
        "# Step 8: Train Naive Bayes model\n",
        "model = MultinomialNB()\n",
        "model.fit(X_train_vect, y_train)\n",
        "\n",
        "# Step 9: Predictions\n",
        "y_pred = model.predict(X_test_vect)\n",
        "\n",
        "# Step 10: Evaluation\n",
        "print(\"\\nAccuracy:\", accuracy_score(y_test, y_pred))\n",
        "print(\"\\nClassification Report:\\n\", classification_report(y_test, y_pred))\n",
        "\n",
        "# Confusion matrix\n",
        "cm = confusion_matrix(y_test, y_pred)\n",
        "sns.heatmap(cm, annot=True, fmt=\"d\", cmap=\"Blues\",\n",
        "            xticklabels=['Ham', 'Spam'], yticklabels=['Ham', 'Spam'])\n",
        "plt.xlabel(\"Predicted\")\n",
        "plt.ylabel(\"Actual\")\n",
        "plt.title(\"Confusion Matrix\")\n",
        "plt.show()\n"
      ],
      "metadata": {
        "id": "SJE8bDOc2jg3"
      },
      "execution_count": null,
      "outputs": []
    }
  ]
}